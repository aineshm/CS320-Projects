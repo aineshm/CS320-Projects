{
 "cells": [
  {
   "cell_type": "code",
   "execution_count": 1,
   "id": "4358a446-7d00-4d2c-873b-5e39416263fc",
   "metadata": {},
   "outputs": [],
   "source": [
    "# project: mp1\n",
    "# submitter: Ainesh Mohan\n",
    "# partner: none\n",
    "# hours: 3"
   ]
  },
  {
   "cell_type": "code",
   "execution_count": 2,
   "id": "2cc6ccc2-db3c-43d5-ac1e-436cb168a396",
   "metadata": {},
   "outputs": [],
   "source": [
    "#import statements\n",
    "import numpy as np\n",
    "import subprocess\n",
    "import matplotlib.pyplot as plt\n",
    "import os\n",
    "import pandas as pd\n",
    "import copy\n",
    "import json\n",
    "import time"
   ]
  },
  {
   "cell_type": "code",
   "execution_count": 3,
   "id": "99300600-ea06-4309-9b0b-45a1124a7ed0",
   "metadata": {},
   "outputs": [
    {
     "data": {
      "text/plain": [
       "float"
      ]
     },
     "execution_count": 3,
     "metadata": {},
     "output_type": "execute_result"
    }
   ],
   "source": [
    "#Q1\n",
    "type(8/3)"
   ]
  },
  {
   "cell_type": "code",
   "execution_count": 4,
   "id": "985c318c-9336-40b2-a567-305b2cc7412d",
   "metadata": {},
   "outputs": [
    {
     "data": {
      "text/plain": [
       "True"
      ]
     },
     "execution_count": 4,
     "metadata": {},
     "output_type": "execute_result"
    }
   ],
   "source": [
    "#Q2\n",
    "x = 4\n",
    "maximum = 15\n",
    "minimum = 5\n",
    "error = not (minimum <= x <= maximum) # False if x is inside the minimum-to-maximum range\n",
    "error"
   ]
  },
  {
   "cell_type": "code",
   "execution_count": 5,
   "id": "b8202a6a-fba7-4d2a-be52-e5b180c23a4f",
   "metadata": {},
   "outputs": [
    {
     "data": {
      "text/plain": [
       "True"
      ]
     },
     "execution_count": 5,
     "metadata": {},
     "output_type": "execute_result"
    }
   ],
   "source": [
    "#Q3\n",
    "word = \"QUOTIDIAN\"\n",
    "suffix_match = word[-3:].lower() == \"ian\" # .endswith(...) method not allowed for this question! (practice slicing)\n",
    "suffix_match"
   ]
  },
  {
   "cell_type": "code",
   "execution_count": 6,
   "id": "db0549e4-f6fc-49f2-a94b-65c920dedb87",
   "metadata": {},
   "outputs": [],
   "source": [
    "def check_sum(x=0,y=0,sum=0):\n",
    "    return x+y == sum"
   ]
  },
  {
   "cell_type": "code",
   "execution_count": 7,
   "id": "170bf422-0dc4-4c1c-8511-076c9e6d0e5b",
   "metadata": {},
   "outputs": [
    {
     "data": {
      "text/plain": [
       "False"
      ]
     },
     "execution_count": 7,
     "metadata": {},
     "output_type": "execute_result"
    }
   ],
   "source": [
    "#Q4\n",
    "check_sum(0.1, 0.2, 0.3)"
   ]
  },
  {
   "cell_type": "code",
   "execution_count": 8,
   "id": "6abc1fb8-c92c-453d-a4d6-8e8e2deb8773",
   "metadata": {},
   "outputs": [
    {
     "data": {
      "text/plain": [
       "True"
      ]
     },
     "execution_count": 8,
     "metadata": {},
     "output_type": "execute_result"
    }
   ],
   "source": [
    "#Q5\n",
    "check_sum(-1,1)"
   ]
  },
  {
   "cell_type": "code",
   "execution_count": 9,
   "id": "eabec8a1-52f6-4780-8548-601ed7d2c027",
   "metadata": {},
   "outputs": [
    {
     "data": {
      "text/plain": [
       "'even'"
      ]
     },
     "execution_count": 9,
     "metadata": {},
     "output_type": "execute_result"
    }
   ],
   "source": [
    "#Q6\n",
    "x = 4\n",
    "if x%2==1:\n",
    "    status = \"odd\"\n",
    "elif x%2==0:\n",
    "    status = \"even\"\n",
    "else:\n",
    "    status = \"non-integer\"\n",
    "status"
   ]
  },
  {
   "cell_type": "code",
   "execution_count": 10,
   "id": "c7cf33a3-cf5d-4f61-89b8-05c71b967ac8",
   "metadata": {},
   "outputs": [
    {
     "name": "stdout",
     "output_type": "stream",
     "text": [
      "3\n",
      "4\n",
      "1\n",
      "6\n"
     ]
    }
   ],
   "source": [
    "nums = [3, 4, 1, 6]\n",
    "for x in nums:\n",
    "    print(x)\n"
   ]
  },
  {
   "cell_type": "code",
   "execution_count": 11,
   "id": "696593e0-96bf-4f6d-bdb4-3267d595be0f",
   "metadata": {},
   "outputs": [],
   "source": [
    "def neg_sum(nums:list):\n",
    "    sum_vals = 0\n",
    "    for x in nums:\n",
    "        if x<0 and sum_vals>-20:\n",
    "            sum_vals += x\n",
    "    return sum_vals"
   ]
  },
  {
   "cell_type": "code",
   "execution_count": 12,
   "id": "ee3079af-84f0-4b32-9bd2-f49f6318efee",
   "metadata": {},
   "outputs": [
    {
     "data": {
      "text/plain": [
       "0"
      ]
     },
     "execution_count": 12,
     "metadata": {},
     "output_type": "execute_result"
    }
   ],
   "source": [
    "#Q7\n",
    "neg_sum(nums)"
   ]
  },
  {
   "cell_type": "code",
   "execution_count": 13,
   "id": "76bb842c-c6f3-443e-88ac-6ffe92fd3f70",
   "metadata": {},
   "outputs": [
    {
     "data": {
      "text/plain": [
       "-22"
      ]
     },
     "execution_count": 13,
     "metadata": {},
     "output_type": "execute_result"
    }
   ],
   "source": [
    "#Q8\n",
    "neg_sum([-5, 1, -11, -6, 15, -1, 8, 2])"
   ]
  },
  {
   "cell_type": "code",
   "execution_count": 14,
   "id": "1bd7481d-524e-4282-9240-b676872bb408",
   "metadata": {},
   "outputs": [],
   "source": [
    "header = [\"A\", \"B\", \"C\"]\n",
    "\n",
    "coord1 = {\"x\": 8, \"y\": 5}\n",
    "coord2 = {\"x\": 9, \"y\": 2, \"z\" : 4}\n",
    "coord3 = {\"x\": 3, \"y\": 1, \"z\" : 7}\n",
    "\n",
    "rows = [\n",
    "    [1, 6, 7, 8, coord1],\n",
    "    [3, 4, 9, coord2],\n",
    "    [5, 2, coord3],\n",
    "]"
   ]
  },
  {
   "cell_type": "code",
   "execution_count": 15,
   "id": "1bd857d1-7aa6-47a6-9d5d-7ffad56c25df",
   "metadata": {},
   "outputs": [
    {
     "data": {
      "text/plain": [
       "[[1, 6, 7, 8, {'x': 8, 'y': 5}],\n",
       " [3, 4, 9, {'x': 9, 'y': 2, 'z': 4}],\n",
       " [5, 2, {'x': 3, 'y': 1, 'z': 7, 'w': 6}]]"
      ]
     },
     "execution_count": 15,
     "metadata": {},
     "output_type": "execute_result"
    }
   ],
   "source": [
    "#Q9\n",
    "coord3[\"w\"] = 6\n",
    "rows"
   ]
  },
  {
   "cell_type": "code",
   "execution_count": 16,
   "id": "a9aeea17-8083-4d76-a4c5-5a9b82c7d746",
   "metadata": {},
   "outputs": [
    {
     "data": {
      "text/plain": [
       "8"
      ]
     },
     "execution_count": 16,
     "metadata": {},
     "output_type": "execute_result"
    }
   ],
   "source": [
    "#Q10\n",
    "rows[0][-1][\"x\"]"
   ]
  },
  {
   "cell_type": "code",
   "execution_count": 17,
   "id": "4ca18166-d407-4dec-be72-06daa1c93485",
   "metadata": {},
   "outputs": [
    {
     "data": {
      "text/plain": [
       "[[1, 6, 7, 8, {'x': 8, 'y': 5}],\n",
       " [3, 404, 9, {'x': 9, 'y': 2, 'z': 4}],\n",
       " [5, 2, {'x': 3, 'y': 1, 'z': 7, 'w': 6}]]"
      ]
     },
     "execution_count": 17,
     "metadata": {},
     "output_type": "execute_result"
    }
   ],
   "source": [
    "#Q11\n",
    "v2 = copy.deepcopy(rows)\n",
    "v2[0] = 404    # first change\n",
    "\n",
    "v2 = copy.copy(rows)\n",
    "v2[1][1] = 404 # second change\n",
    "\n",
    "rows"
   ]
  },
  {
   "cell_type": "code",
   "execution_count": 18,
   "id": "7464e142-d7a5-45f2-8176-428166884cec",
   "metadata": {},
   "outputs": [
    {
     "data": {
      "text/plain": [
       "412"
      ]
     },
     "execution_count": 18,
     "metadata": {},
     "output_type": "execute_result"
    }
   ],
   "source": [
    "#Q12\n",
    "ans = 0\n",
    "for i in range(len(header)):\n",
    "    ans +=rows[i][header.index(\"B\")]\n",
    "ans"
   ]
  },
  {
   "cell_type": "code",
   "execution_count": 19,
   "id": "82310e0c-0755-431d-9ee7-65825f8f3175",
   "metadata": {},
   "outputs": [
    {
     "data": {
      "text/plain": [
       "[[5, 2, {'x': 3, 'y': 1, 'z': 7, 'w': 6}],\n",
       " [1, 6, 7, 8, {'x': 8, 'y': 5}],\n",
       " [3, 404, 9, {'x': 9, 'y': 2, 'z': 4}]]"
      ]
     },
     "execution_count": 19,
     "metadata": {},
     "output_type": "execute_result"
    }
   ],
   "source": [
    "#Q13\n",
    "rows.sort(key=lambda row: row[header.index(\"B\")])\n",
    "rows"
   ]
  },
  {
   "cell_type": "code",
   "execution_count": 20,
   "id": "6108bbd6-fb50-4d05-b7a7-e31003ace6b4",
   "metadata": {},
   "outputs": [],
   "source": [
    "f = open(\"usd.json\")\n",
    "data = json.load(f)\n",
    "f.close()"
   ]
  },
  {
   "cell_type": "code",
   "execution_count": 21,
   "id": "63c39eba-384d-47de-b12f-8b9717bda1a0",
   "metadata": {},
   "outputs": [
    {
     "data": {
      "text/plain": [
       "1349.91"
      ]
     },
     "execution_count": 21,
     "metadata": {},
     "output_type": "execute_result"
    }
   ],
   "source": [
    "#Q14\n",
    "exchange_rate = data['cad'][\"rate\"]\n",
    "usd = 1000\n",
    "cad = round(exchange_rate*usd,2)\n",
    "cad"
   ]
  },
  {
   "cell_type": "code",
   "execution_count": 22,
   "id": "1f03e6c2-b0c4-43aa-b1c2-7037568f580c",
   "metadata": {},
   "outputs": [],
   "source": [
    "def divide(x,y):\n",
    "    try:\n",
    "        return x/y\n",
    "    except ZeroDivisionError:\n",
    "        return float(\"nan\")"
   ]
  },
  {
   "cell_type": "code",
   "execution_count": 23,
   "id": "21cdad23-4e68-4983-b493-ec45e1d80379",
   "metadata": {},
   "outputs": [
    {
     "data": {
      "text/plain": [
       "2.5"
      ]
     },
     "execution_count": 23,
     "metadata": {},
     "output_type": "execute_result"
    }
   ],
   "source": [
    "#Q15\n",
    "divide(5,2)"
   ]
  },
  {
   "cell_type": "code",
   "execution_count": 24,
   "id": "76ccc216-3ba6-4477-b42c-dea2bfb8fb37",
   "metadata": {},
   "outputs": [
    {
     "data": {
      "text/plain": [
       "nan"
      ]
     },
     "execution_count": 24,
     "metadata": {},
     "output_type": "execute_result"
    }
   ],
   "source": [
    "#Q16\n",
    "divide(0,0)"
   ]
  },
  {
   "cell_type": "code",
   "execution_count": 25,
   "id": "14afd0a9-3a74-4f93-b7d7-9d18b368219a",
   "metadata": {},
   "outputs": [
    {
     "data": {
      "text/plain": [
       "[2017, 2018, 2019, 2020, 2021]"
      ]
     },
     "execution_count": 25,
     "metadata": {},
     "output_type": "execute_result"
    }
   ],
   "source": [
    "#Q17\n",
    "years = {}\n",
    "for file_name in os.listdir(\"home-computers\"):\n",
    "    temp = file_name.split(\".\")\n",
    "    if temp[2] == \"csv\":\n",
    "        years[int(temp[0][-4:])]=pd.read_csv(\"./home-computers/\"+file_name,skiprows = [0], index_col = \"Geographic Area Name\")\n",
    "sorted(list(years.keys()))"
   ]
  },
  {
   "cell_type": "code",
   "execution_count": 26,
   "id": "98d97865-324b-49e8-ba19-32bef26ad1b6",
   "metadata": {},
   "outputs": [
    {
     "data": {
      "text/plain": [
       "2401818"
      ]
     },
     "execution_count": 26,
     "metadata": {},
     "output_type": "execute_result"
    }
   ],
   "source": [
    "#Q18\n",
    "df = years[2021]\n",
    "df.at[\"Wisconsin\",\"Estimate!!Total\"]"
   ]
  },
  {
   "cell_type": "code",
   "execution_count": 27,
   "id": "6aade800-b375-4ee6-b084-0332538a1811",
   "metadata": {},
   "outputs": [
    {
     "data": {
      "text/plain": [
       "8902093"
      ]
     },
     "execution_count": 27,
     "metadata": {},
     "output_type": "execute_result"
    }
   ],
   "source": [
    "#Q19\n",
    "df[\"Estimate!!Total!!No Computer\"].sum()"
   ]
  },
  {
   "cell_type": "code",
   "execution_count": 28,
   "id": "aed5d33d-302d-4ec9-98c7-ae7d5bf24f7d",
   "metadata": {},
   "outputs": [
    {
     "data": {
      "text/plain": [
       "0.07836701790752577"
      ]
     },
     "execution_count": 28,
     "metadata": {},
     "output_type": "execute_result"
    }
   ],
   "source": [
    "#Q20\n",
    "col = df[\"Margin of Error!!Total!!No Computer\"] / df[\"Estimate!!Total!!No Computer\"]\n",
    "max_error = col.max()\n",
    "max_error"
   ]
  },
  {
   "cell_type": "code",
   "execution_count": 29,
   "id": "4a814e6c-9d8c-464f-8306-1d08a1d3b8cb",
   "metadata": {},
   "outputs": [
    {
     "data": {
      "text/plain": [
       "{'Illinois': 7.351100500886871,\n",
       " 'Indiana': 8.300995843439395,\n",
       " 'Iowa': 8.302263591069158,\n",
       " 'Michigan': 7.579772219831928,\n",
       " 'Minnesota': 6.1777398950248985,\n",
       " 'Wisconsin': 8.029750797104526}"
      ]
     },
     "execution_count": 29,
     "metadata": {},
     "output_type": "execute_result"
    }
   ],
   "source": [
    "#Q21\n",
    "states = [\"Illinois\", \"Indiana\", \"Iowa\", \"Michigan\", \"Minnesota\", \"Wisconsin\"]\n",
    "no_comp_perc = {}\n",
    "for i in states:\n",
    "    no_comp_perc[i] = ((df.loc[i][\"Estimate!!Total!!No Computer\"])/(df.loc[i][\"Estimate!!Total\"]))*100\n",
    "no_comp_perc"
   ]
  },
  {
   "cell_type": "code",
   "execution_count": 30,
   "id": "c28b46fc-e600-4841-9be6-7c84afc08d42",
   "metadata": {},
   "outputs": [
    {
     "data": {
      "text/plain": [
       "<AxesSubplot:xlabel='Geographic Area Name', ylabel='% of Households w/o Computers'>"
      ]
     },
     "execution_count": 30,
     "metadata": {},
     "output_type": "execute_result"
    },
    {
     "data": {
      "image/png": "[encoded data removed]",
      "text/plain": [
       "<Figure size 640x480 with 1 Axes>"
      ]
     },
     "metadata": {},
     "output_type": "display_data"
    }
   ],
   "source": [
    "#Q22\n",
    "pd.Series(no_comp_perc).plot.bar(xlabel = \"Geographic Area Name\", ylabel = \"% of Households w/o Computers\")"
   ]
  },
  {
   "cell_type": "code",
   "execution_count": 31,
   "id": "b7ac7ba5-1b5d-4bce-b9b0-a1c2d9a21e9c",
   "metadata": {},
   "outputs": [
    {
     "data": {
      "text/plain": [
       "<AxesSubplot:xlabel='Year', ylabel='WI Households without Computers (thousands)'>"
      ]
     },
     "execution_count": 31,
     "metadata": {},
     "output_type": "execute_result"
    },
    {
     "data": {
      "image/png": "[encoded data removed]",
      "text/plain": [
       "<Figure size 640x480 with 1 Axes>"
      ]
     },
     "metadata": {},
     "output_type": "display_data"
    }
   ],
   "source": [
    "#Q23\n",
    "wisc_data = {}\n",
    "for i in range(2017,2022):\n",
    "    temp = years[i]\n",
    "    wisc_data[i] = temp.loc[\"Wisconsin\",\"Estimate!!Total!!No Computer\"]/1000\n",
    "pd.Series(wisc_data).plot.line(xlabel = \"Year\", ylabel = \"WI Households without Computers (thousands)\")"
   ]
  },
  {
   "cell_type": "code",
   "execution_count": 32,
   "id": "ab4b5024-fbcb-4379-a2b2-8fbc97a4b911",
   "metadata": {},
   "outputs": [
    {
     "data": {
      "text/plain": [
       "Text(0, 0.5, 'Smartphones (millions)')"
      ]
     },
     "execution_count": 32,
     "metadata": {},
     "output_type": "execute_result"
    },
    {
     "data": {
      "image/png": "[encoded data removed]",
      "text/plain": [
       "<Figure size 640x480 with 1 Axes>"
      ]
     },
     "metadata": {},
     "output_type": "display_data"
    }
   ],
   "source": [
    "#Q24\n",
    "col_smartphones = df[\"Estimate!!Total!!Has one or more types of computing devices!!Smartphone\"] / 1e6\n",
    "col_tablets = df[\"Estimate!!Total!!Has one or more types of computing devices!!Tablet or other portable wireless computer\"] / 1e6\n",
    "\n",
    "plt.scatter(col_tablets, col_smartphones)\n",
    "plt.xlabel(\"Tablets (millions)\")\n",
    "plt.ylabel(\"Smartphones (millions)\")"
   ]
  },
  {
   "cell_type": "code",
   "execution_count": 33,
   "id": "f4c92d1d-0a06-4641-a357-9c676502f930",
   "metadata": {
    "tags": []
   },
   "outputs": [
    {
     "name": "stderr",
     "output_type": "stream",
     "text": [
      "Already on 'main'\n"
     ]
    },
    {
     "data": {
      "text/plain": [
       "'commit 660994efc761efdfd49ca442b73f6712dc77b6cf'"
      ]
     },
     "execution_count": 33,
     "metadata": {},
     "output_type": "execute_result"
    }
   ],
   "source": [
    "#Q25\n",
    "log_output = subprocess.check_output(\"git checkout main; git log\", cwd = \"flask\", shell = True).decode().split(\"\\n\")\n",
    "ans = \"\"\n",
    "for i in range(len(log_output)):\n",
    "    if log_output[i].startswith(\"commit\"):\n",
    "        ans = log_output[i]\n",
    "        break\n",
    "ans"
   ]
  },
  {
   "cell_type": "code",
   "execution_count": 34,
   "id": "26f2cce9-4810-4d8c-848f-b0df1b79efc5",
   "metadata": {},
   "outputs": [
    {
     "name": "stderr",
     "output_type": "stream",
     "text": [
      "Already on 'main'\n"
     ]
    },
    {
     "data": {
      "text/plain": [
       "['a9d4ea81da28ee9c894bf9d45adc4cfa9d52fddc',\n",
       " '727c701686c18c4a27ca523eb0c5862d497be24e',\n",
       " '4edec48b74dbb9d571e927b69b24c30ec0624975',\n",
       " '625eba4bb403296a8bbc1e72cc9cf4a5126f6c02',\n",
       " '4aa76212d1be9b17a57249549c2a73fb10b6cda8',\n",
       " '3b36bef2e6165bb4dad73d17f23ee1879e99f497',\n",
       " '44b42e0fbd93d86e0f4e929bda8e5fb63e81035d',\n",
       " '4ec7d2a0d8eac4f915dc0d38a886cd57045bb0c4',\n",
       " 'b15ad394279fc3b7f998fa56857f334a7c0156f6',\n",
       " '33850c0ebd23ae615e6823993d441f46d80b1ff0']"
      ]
     },
     "execution_count": 34,
     "metadata": {},
     "output_type": "execute_result"
    }
   ],
   "source": [
    "#Q26\n",
    "list_of_commits = subprocess.check_output(\"git checkout main; git log\", cwd = \"flask\", shell = True).decode().split(\"\\n\")[::-1]\n",
    "counter = 0\n",
    "output = []\n",
    "while len(output) < 10:\n",
    "    temp = list_of_commits[counter]\n",
    "    if temp.startswith(\"commit\"):\n",
    "        output.append(temp[7:])\n",
    "    counter += 1\n",
    "\n",
    "output[::-1]"
   ]
  },
  {
   "cell_type": "code",
   "execution_count": 35,
   "id": "0c4b4037-1084-4249-bd35-b8efe82709b1",
   "metadata": {},
   "outputs": [
    {
     "name": "stderr",
     "output_type": "stream",
     "text": [
      "Already on 'main'\n",
      "Note: switching to 'f878919753a909e45b2d5448aa175f4f9129ff24'.\n",
      "\n",
      "You are in 'detached HEAD' state. You can look around, make experimental\n",
      "changes and commit them, and you can discard any commits you make in this\n",
      "state without impacting any branches by switching back to a branch.\n",
      "\n",
      "If you want to create a new branch to retain commits you create, you may\n",
      "do so (now or later) by using -c with the switch command. Example:\n",
      "\n",
      "  git switch -c <new-branch-name>\n",
      "\n",
      "Or undo this operation with:\n",
      "\n",
      "  git switch -\n",
      "\n",
      "Turn off this advice by setting config variable advice.detachedHead to false\n",
      "\n",
      "HEAD is now at f8789197 With -> with in headline\n"
     ]
    },
    {
     "data": {
      "text/plain": [
       "\"\\n                          // Flask //\\n\\n         because sometimes a pocket knife is not enough\\n\\n\\n    ~ What is Flask?\\n\\n      Flask is a microframework for Python based on Werkzeug\\n      and Jinja2.  It's intended for small scale applications\\n      and was development with best intentions in mind.\\n\\n    ~ Is it ready?\\n\\n      A preview release is out now, and I'm hoping for some\\n      input about what you want from a microframework and\\n      how it should look like.  Consider the API to slightly\\n      improve over time.\\n\\n    ~ What do I need?\\n\\n      Jinja 2.4 and Werkzeug 0.6.1.  `easy_install` will\\n      install them for you if you do `easy_install Flask==dev`.\\n      I encourage you to use a virtualenv.  Check the docs for\\n      complete installation and usage instructions.\\n\\n    ~ Where are the docs?\\n\\n      Go to http://flask.pocoo.org/ for a prebuild version of\\n      the current documentation.  Otherwise build them yourself\\n      from the sphinx sources in the docs folder.\\n\""
      ]
     },
     "execution_count": 35,
     "metadata": {},
     "output_type": "execute_result"
    }
   ],
   "source": [
    "#Q27\n",
    "list_of_commits = subprocess.check_output(\"git checkout main; git log\", cwd = \"flask\", shell = True).decode().split(\"\\n\")[::-1]\n",
    "counter = 0\n",
    "output = []\n",
    "while len(output) < 100:\n",
    "    temp = list_of_commits[counter]\n",
    "    if temp.startswith(\"commit\"):\n",
    "        output.append(temp[7:])\n",
    "    counter += 1\n",
    "    # print(output)\n",
    "\n",
    "output_100 = output[99]\n",
    "subprocess.check_output(\"git checkout \"+output_100, cwd = \"flask\", shell = True)\n",
    "file = open(\"flask/README\")\n",
    "data = file.read()\n",
    "file.close()\n",
    "data"
   ]
  },
  {
   "cell_type": "code",
   "execution_count": 36,
   "id": "d2018ea1-143b-4df1-a3bf-c475fe1eb9b6",
   "metadata": {},
   "outputs": [
    {
     "name": "stderr",
     "output_type": "stream",
     "text": [
      "Previous HEAD position was f8789197 With -> with in headline\n",
      "Switched to branch 'main'\n"
     ]
    },
    {
     "data": {
      "text/plain": [
       "{'pallets': 204,\n",
       " 'pgjones': 14,\n",
       " 'greyli': 42,\n",
       " 'ThiefMaster': 11,\n",
       " 'davidism': 45,\n",
       " 'untitaker': 20,\n",
       " 'ThomasWaldmann': 13,\n",
       " 'SimonSapin': 11}"
      ]
     },
     "execution_count": 36,
     "metadata": {},
     "output_type": "execute_result"
    }
   ],
   "source": [
    "#Q28\n",
    "list_of_commits = subprocess.check_output(\"git checkout main; git log\", cwd=\"flask\", shell=True).decode().split(\"\\n\")\n",
    "\n",
    "output = {}\n",
    "for temp in list_of_commits:\n",
    "    if temp.startswith(\"    Merge pull request\") and '/' in temp:\n",
    "        user = temp[temp.index('from') + 5:temp.index('/')]  # Adjusted slicing indices\n",
    "        output[user] = output.get(user, 0) + 1\n",
    "\n",
    "greater_than_10 = {key: value for key, value in output.items() if value >= 10}\n",
    "\n",
    "greater_than_10"
   ]
  },
  {
   "cell_type": "code",
   "execution_count": 37,
   "id": "a9672c7e-5deb-4816-b42e-a16c87d5e79f",
   "metadata": {},
   "outputs": [
    {
     "data": {
      "text/plain": [
       "'ERROR: unknown command \"instal\" - maybe you meant \"install\"\\n'"
      ]
     },
     "execution_count": 37,
     "metadata": {},
     "output_type": "execute_result"
    }
   ],
   "source": [
    "#Q29\n",
    "try:\n",
    "    msg = subprocess.check_output([\"pip3\", \"instal\"], stderr=subprocess.STDOUT).decode()\n",
    "except subprocess.CalledProcessError as e:\n",
    "    msg = e.output.decode()\n",
    "msg"
   ]
  },
  {
   "cell_type": "code",
   "execution_count": 38,
   "id": "8fc33fea-fdae-47b8-aa38-481f1f01c2bb",
   "metadata": {},
   "outputs": [
    {
     "data": {
      "text/plain": [
       "<AxesSubplot:xlabel='Rows', ylabel='Milliseconds'>"
      ]
     },
     "execution_count": 38,
     "metadata": {},
     "output_type": "execute_result"
    },
    {
     "data": {
      "image/png": "[encoded data removed]",
      "text/plain": [
       "<Figure size 640x480 with 1 Axes>"
      ]
     },
     "metadata": {},
     "output_type": "display_data"
    }
   ],
   "source": [
    "#Q30\n",
    "def rand_df(rows):\n",
    "    return pd.DataFrame(np.random.randint(10, size=(rows, 5)),\n",
    "                        columns=[\"A\", \"B\", \"C\", \"D\", \"E\"],\n",
    "                        index=[f\"r{i}\" for i in range(1, rows+1)])\n",
    "times_df = pd.DataFrame()\n",
    "for i in range(1000,6000,1000):\n",
    "    df = rand_df(i)\n",
    "    \n",
    "    t0 = time.time()\n",
    "    for row in df.iterrows():\n",
    "        pass\n",
    "    t1 = time.time()\n",
    "    \n",
    "    t2 = time.time()\n",
    "    for tup in df.itertuples():\n",
    "        pass\n",
    "    t3 = time.time()\n",
    "    times_df.at[i,\"iterrows\"] = (t1-t0)*1000\n",
    "    times_df.at[i,\"itertuples\"] = (t3-t2)*1000\n",
    "\n",
    "\n",
    "times_df.plot.line(xlabel = \"Rows\", ylabel = \"Milliseconds\")"
   ]
  },
  {
   "cell_type": "code",
   "execution_count": 39,
   "id": "6cdd2162-8502-4f91-abef-cdf4d7699786",
   "metadata": {},
   "outputs": [
    {
     "data": {
      "text/plain": [
       "<AxesSubplot:xlabel='Rows', ylabel='Milliseconds'>"
      ]
     },
     "execution_count": 39,
     "metadata": {},
     "output_type": "execute_result"
    },
    {
     "data": {
      "image/png": "[encoded data removed]",
      "text/plain": [
       "<Figure size 640x480 with 1 Axes>"
      ]
     },
     "metadata": {},
     "output_type": "display_data"
    }
   ],
   "source": [
    "#Q31\n",
    "times_df = pd.DataFrame()\n",
    "for i in range(1000,6000,1000):\n",
    "    df = rand_df(i)\n",
    "    total = 0\n",
    "    \n",
    "    t0 = time.time()\n",
    "    \n",
    "    for idx in df.index:\n",
    "        for col in df.columns:\n",
    "            total += df.at[idx, col]\n",
    "\n",
    "    t1 = time.time()\n",
    "    \n",
    "    total = 0\n",
    "    t2 = time.time()\n",
    "    \n",
    "    for idx in df.index:\n",
    "        for col in df.columns:\n",
    "            total += df.loc[idx,col]\n",
    "    t3 = time.time()\n",
    "    \n",
    "    times_df.at[i,\".at\"] = (t1-t0)*1000\n",
    "    times_df.at[i,\".loc\"] = (t3-t2)*1000\n",
    "\n",
    "\n",
    "times_df.plot.line(xlabel = \"Rows\", ylabel = \"Milliseconds\")"
   ]
  },
  {
   "cell_type": "code",
   "execution_count": 40,
   "id": "c5833fb2-7b75-411e-bf2d-fddf56fd5b30",
   "metadata": {},
   "outputs": [
    {
     "data": {
      "text/plain": [
       "<AxesSubplot:xlabel='Rows', ylabel='Milliseconds'>"
      ]
     },
     "execution_count": 40,
     "metadata": {},
     "output_type": "execute_result"
    },
    {
     "data": {
      "image/png": "[encoded data removed]",
      "text/plain": [
       "<Figure size 640x480 with 1 Axes>"
      ]
     },
     "metadata": {},
     "output_type": "display_data"
    }
   ],
   "source": [
    "#Q32\n",
    "def laugh(x):\n",
    "    return \"qwerty\" * x\n",
    "\n",
    "\n",
    "times_df = pd.DataFrame()\n",
    "for i in range(1000,21000,1000):\n",
    "    df = rand_df(i)\n",
    "    \n",
    "    total = 0\n",
    "    t0 = time.time()\n",
    "    result = df[\"A\"].apply(laugh).tolist()\n",
    "    t1 = time.time()\n",
    "    \n",
    "    total = 0\n",
    "    t2 = time.time()\n",
    "    result = []\n",
    "    for val in df[\"A\"]:\n",
    "        result.append(laugh(val))\n",
    "    t3 = time.time()\n",
    "    \n",
    "    times_df.at[i,\"Apply\"] = (t1-t0)*1000\n",
    "    times_df.at[i,\"For\"] = (t3-t2)*1000\n",
    "\n",
    "\n",
    "times_df.plot.line(xlabel = \"Rows\", ylabel = \"Milliseconds\")"
   ]
  }
 ],
 "metadata": {
  "kernelspec": {
   "display_name": "Python 3 (ipykernel)",
   "language": "python",
   "name": "python3"
  },
  "language_info": {
   "codemirror_mode": {
    "name": "ipython",
    "version": 3
   },
   "file_extension": ".py",
   "mimetype": "text/x-python",
   "name": "python",
   "nbconvert_exporter": "python",
   "pygments_lexer": "ipython3",
   "version": "3.10.12"
  }
 },
 "nbformat": 4,
 "nbformat_minor": 5
}
